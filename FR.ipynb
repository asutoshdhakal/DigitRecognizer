{
 "cells": [
  {
   "cell_type": "markdown",
   "metadata": {},
   "source": [
    "## FINAL REPORT (FR)\n",
    "\n",
    "## Due 30 April 2016 (Sunday, 11:59pm)\n",
    "\n",
    "**Important Note:** Before uploading your midterm project on Canvas, please name your file as following:\n",
    "\n",
    "*MT#_FirstLastName.ipynb*\n",
    "\n",
    "where \"#\" denotes the midterm number, \"FirstLastName\" is the name of the student. Students are allowed to work in groups (2 or max. of 3 students). **Each student will hand in their own file**. If you work with another student, please write her/his name on top of the first cell (in a Markdown cell)."
   ]
  },
  {
   "cell_type": "markdown",
   "metadata": {},
   "source": [
    "**Question (28 points): CHOOSE YOUR OWN COMPUTATIONAL INTELLIGENCE APPLICATION**\n",
    "\n",
    "In this last exercise, you will choose your own CI application from one of the following main applications (Surrogate-based optimization can be coupled with the other two):\n",
    "\n",
    "* Game AI\n",
    "* 3D Printing\n",
    "* Surrogate-based Optimization\n",
    "\n",
    "You are already familiar with Game AI and 3D printing applications. You can get some ideas about the surrogate-based optimization from the following three papers (you can download them from [UT library](http://www.lib.utexas.edu/) with your EID):\n",
    "\n",
    "* Y. Jin, [A comprehensive survey of fitness approximation in evolutionary computation](http://link.springer.com/article/10.1007%2Fs00500-003-0328-5), Soft Computing, Vol:9, Issue:1, 2005.\n",
    "* A.I.J. Forrester, A.J. Keane, [Recent advances in surrogate-based optimization](http://www.sciencedirect.com/science/article/pii/S0376042108000766), Progress in Aerospace Sciences, Vol:45, 50-79, 2009.\n",
    "* Y. Jin, [Surrogate-assisted evolutionary computation: Recent advances and future challenges](http://www.sciencedirect.com/science/article/pii/S2210650211000198), Swarm and Evolutionary Computation, 61-70, 2011.\n",
    "\n",
    "One of the recent papers that we worked on can be found in this [link](https://docs.google.com/viewer?a=v&pid=sites&srcid=ZGVmYXVsdGRvbWFpbnxjZW1jdHV0dW18Z3g6MmVmY2Q1YjA0ZWVjNzE3MQ).\n",
    "\n",
    "Some other interesting projects could be, but **not limited to**:\n",
    "\n",
    "* Evolutionary multi-objective optimization (EMO) and its applications in games or 3D printing\n",
    "* Evolutionary Many-objective optimization\n",
    "* Use of different evolutionary algorithms: Genetic Programming, Evolution Strategies, Particle Swarm Optimization, Differential Evolution, CMA-ES, Estimation of Distribution Algorithms, etc. (most of these algorithms are avilable in DEAP)\n",
    "* Approximation of 3D objects with cubes, spheres or any base hypercubes using evolutionary algorithms (needs integration of DEAP with OpenSCAD or programming an EA in OpenSCAD)\n",
    "* Designing a 2D car with EAs to finish a given track in shorted amount of time (requires a physics engine)\n",
    "* 3D printable walking or jumping objects (requires a physics engine)\n",
    "* Designing 3D printable accessories using EAs (aesthetic measure is needed for the fitness calculation)\n",
    "* Surrogate-based optimization using a physical simulation or analytical engineering design problem.\n",
    "* Surrogate-based EMO.\n",
    "* Surrogate-based optimization in high-dimensional search space (more than 15 or 20 dimensions).\n",
    "* Robust optimization -- Optimization under uncertainties. For instance, you can investigate the variablity in 3D printing of gears and how to incorporate these variances while designing a reliable gear mechanism\n",
    "* 3D printable lamp design --incorporating variable wall thickness (to control translucency). It may require a physics engine.\n",
    "\n",
    "**IMPORTANT NOTES:** \n",
    "\n",
    "* You can discuss your final project with your friends or mentors, but you have to discuss about it with the instructor before working on it.\n",
    "* Prepare your report in the following format.\n",
    "* Write your report below this cell, not as part of the explanations of format or content.\n",
    "\n",
    "**////////////////////////////////////////////////////////////////**\n",
    "\n",
    "**FORMAT OF THE REPORT:**\n",
    "\n",
    "\n",
    "**Abstract**: \n",
    "\n",
    "* **Briefly** explain the purpose of the exercise, the methodology you followed and the results you obtained. Only one paragraph.\n",
    "\n",
    "**Introduction**:\n",
    "\n",
    "* First paragraph: A short description (3-5 sentences) about your project.\n",
    "* Second paragraph: A *detailed* description of the problem, related work found in the literature. A summary of the structure of your report (what will you be discussing in the upcoming sections?)\n",
    "* Please don't forget to provide any references (**with corresponding numbers**) supporting your sentences.\n",
    "\n",
    "**Methodology**:\n",
    "\n",
    "* You are expected to use an evolutionary algorithm; please provide the details of your implementation (which operators you use?, how do you calculate the fitness values?, etc.)\n",
    "* Please provide the statistics about your calculations.\n",
    "* If you use a simulation, physics engine, analytical test problem or parametric design for 3D printing, give the detailed description of that.\n",
    "* You can provide example figures about the problem.\n",
    "\n",
    "**Results and Discussions**:\n",
    "\n",
    "* You can provide a figure showing the fitness values versus generations. \n",
    "* Results obtained with different algorithm settings.\n",
    "\n",
    "**Conclusions**:\n",
    "\n",
    "* Wrap up your work like you do in Abstract section and provide detailed summary of the results. \n",
    "* If your approach didn't work, you can still give the arguments to help potential readers to avoid the same mistakes.\n",
    "\n",
    "**References**:\n",
    "\n",
    "* List your citations with the order of: Author1, Author2, \"Title of the article\", Name of the Journal or Conference that the paper published at, Pages, Year. \n",
    "* Start your references with numbers and use those numbers in the text.\n",
    "\n",
    "**THANK YOU**"
   ]
  },
  {
   "cell_type": "code",
   "execution_count": 1,
   "metadata": {
    "collapsed": false
   },
   "outputs": [],
   "source": [
    "import numpy as np \n",
    "import pandas as pd\n",
    "\n",
    "train = pd.read_csv('train.csv')\n",
    "# create target \n",
    "y = np.array(train['label'], dtype=str)\n",
    "# create input array \n",
    "X = np.array(train.drop('label', axis=1), dtype=float)\n",
    "# normalize\n",
    "X = X / 255\n",
    "# select 75% for training, we will use the other 25% to test\n",
    "train_size = int(X.shape[0] * .75)"
   ]
  },
  {
   "cell_type": "code",
   "execution_count": 2,
   "metadata": {
    "collapsed": false
   },
   "outputs": [
    {
     "data": {
      "text/plain": [
       "<matplotlib.image.AxesImage at 0x11280a1d0>"
      ]
     },
     "execution_count": 2,
     "metadata": {},
     "output_type": "execute_result"
    },
    {
     "data": {
      "image/png": "[encoded data removed]",
      "text/plain": [
       "<matplotlib.figure.Figure at 0x111e6c090>"
      ]
     },
     "metadata": {},
     "output_type": "display_data"
    }
   ],
   "source": [
    "%matplotlib inline\n",
    "import matplotlib.pyplot as plt\n",
    "\n",
    "def gimg(i):\n",
    "    # images must be 28x28x3\n",
    "    return np.reshape(\n",
    "        # greyscale images using the same value for R G B\n",
    "        np.column_stack(\n",
    "            (X[i], X[i], X[i])\n",
    "        ),\n",
    "        (28, 28, 3)\n",
    "    )\n",
    "\n",
    "# create the top 5\n",
    "img = gimg(0)\n",
    "for i in range(1, 12):\n",
    "    img = np.column_stack((img, gimg(i)))\n",
    "    \n",
    "# create the bottom 5\n",
    "img1 = gimg(6)\n",
    "for i in range(7, 18):\n",
    "    img1 = np.column_stack((img1, gimg(i)))\n",
    "\n",
    "# add bottom to the top and swap sign \n",
    "img = 1 - np.row_stack((img, img1))\n",
    "\n",
    "plt.imshow(img)"
   ]
  },
  {
   "cell_type": "code",
   "execution_count": 3,
   "metadata": {
    "collapsed": true
   },
   "outputs": [],
   "source": [
    "from sklearn.decomposition import PCA\n",
    "\n",
    "pca = PCA(n_components=50)\n",
    "training_data = pca.fit_transform(X[:train_size], y[:train_size])"
   ]
  },
  {
   "cell_type": "code",
   "execution_count": 12,
   "metadata": {
    "collapsed": false
   },
   "outputs": [
    {
     "data": {
      "text/plain": [
       "MLPClassifier(activation='relu', alpha=1e-05, batch_size='auto', beta_1=0.9,\n",
       "       beta_2=0.999, early_stopping=False, epsilon=1e-08,\n",
       "       hidden_layer_sizes=(54,), learning_rate='constant',\n",
       "       learning_rate_init=0.001, max_iter=3000, momentum=0.9,\n",
       "       nesterovs_momentum=True, power_t=0.5, random_state=1, shuffle=True,\n",
       "       solver='lbfgs', tol=0.0001, validation_fraction=0.1, verbose=False,\n",
       "       warm_start=False)"
      ]
     },
     "execution_count": 12,
     "metadata": {},
     "output_type": "execute_result"
    }
   ],
   "source": [
    "from sklearn.neural_network import MLPClassifier\n",
    "\n",
    "\n",
    "#implement my own stochastic gradient descent...somehow. \n",
    "\n",
    "    \n",
    "\n",
    "clf = MLPClassifier(solver='lbfgs', alpha=1e-5, activation='relu', max_iter=3000,\n",
    "                    hidden_layer_sizes=(54,), random_state=1)\n",
    "clf.fit(training_data, y[:train_size].ravel())"
   ]
  },
  {
   "cell_type": "code",
   "execution_count": 13,
   "metadata": {
    "collapsed": false
   },
   "outputs": [
    {
     "name": "stdout",
     "output_type": "stream",
     "text": [
      "10150\n",
      "[[1043    0    0    1    0    5   10    0    2    2]\n",
      " [   0 1162    5    1    1    1    0    4    7    1]\n",
      " [   6    1  966    8    1    1    6    9    5    2]\n",
      " [   3    2    9 1055    1    9    1    6   18    4]\n",
      " [   2    2    1    0  955    1    9    3    2   10]\n",
      " [   7    2    1   20    1  896    5    1    4    3]\n",
      " [   3    2    6    0    5    6 1019    1    0    0]\n",
      " [   4    0    9    5    1    2    0 1075    5   10]\n",
      " [   1    2    7    4    0   11    5    0  988    3]\n",
      " [   5    2    2    7    9    4    1   12   10  991]]\n"
     ]
    }
   ],
   "source": [
    "from sklearn import metrics\n",
    "\n",
    "predicted = clf.predict(pca.transform(X[train_size:]))\n",
    "actual = y[train_size:]\n",
    "#print(metrics.classification_report(actual, predicted))\n",
    "\n",
    "matrix = metrics.confusion_matrix(actual, predicted)\n",
    "sumMatrix = 0\n",
    "for i in range(0,10):\n",
    "    sumMatrix = sumMatrix + matrix[i][i]\n",
    "    \n",
    "print sumMatrix\n",
    "print matrix\n",
    "\n"
   ]
  },
  {
   "cell_type": "code",
   "execution_count": null,
   "metadata": {
    "collapsed": true
   },
   "outputs": [],
   "source": []
  }
 ],
 "metadata": {
  "anaconda-cloud": {},
  "kernelspec": {
   "display_name": "Python [default]",
   "language": "python",
   "name": "python2"
  },
  "language_info": {
   "codemirror_mode": {
    "name": "ipython",
    "version": 2
   },
   "file_extension": ".py",
   "mimetype": "text/x-python",
   "name": "python",
   "nbconvert_exporter": "python",
   "pygments_lexer": "ipython2",
   "version": "2.7.12"
  }
 },
 "nbformat": 4,
 "nbformat_minor": 0
}
