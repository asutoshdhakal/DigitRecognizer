{
 "cells": [
  {
   "cell_type": "markdown",
   "metadata": {},
   "source": [
    "# Final Project Part 1\n",
    "\n",
    "### Idea Generation: \n",
    "\n",
    "I have a few ideas I would like to still consider in this final project, and maybe even the following semester. First, I'd like to explore the idea of crime (sexual assault, theft, etc.) and how we can use machine learning algorithms to help people be safer when it comes to walking back late at night. Another idea that I have is the idea of handwriting recognition. I want to be able to create something that can process writing and turn it into text on a computer. \n",
    "\n",
    "\n",
    "### Subtasks: \n",
    "\n",
    "For each of these ideas, there are similar subprocesses in play.  \n",
    "1. First is the process of gathering the data. For the first one, I'd need to classify areas in the city as \"safe, neutral, unsafe\" or something along those lines and gather all the data needed from a reliable source. For the second one, I'd need to find a lot of pictures of text and type out what they say manually, or gather it from a data set. \n",
    "2.  I'd need to understand the fundamentals of computer vision for the second idea. I'd also need a way to train my data sets.  \n",
    "3.  Once I've figured all o\n",
    "\n"
   ]
  },
  {
   "cell_type": "code",
   "execution_count": null,
   "metadata": {
    "collapsed": true
   },
   "outputs": [],
   "source": [
    "from sklearn.externals import joblib\n",
    "from sklearn import datasets\n",
    "from skimage.feature import hog\n",
    "from sklearn.svm import LinearSVC\n",
    "import numpy as np\n",
    "\n",
    "\n",
    "dataset = datasets.fetch_mldata(\"MNIST Original\")\n",
    "\n",
    "features = np.array(dataset.data, 'int16')\n",
    "labels = np.array(dataset.target, 'int')"
   ]
  }
 ],
 "metadata": {
  "anaconda-cloud": {},
  "kernelspec": {
   "display_name": "Python [default]",
   "language": "python",
   "name": "python2"
  },
  "language_info": {
   "codemirror_mode": {
    "name": "ipython",
    "version": 2
   },
   "file_extension": ".py",
   "mimetype": "text/x-python",
   "name": "python",
   "nbconvert_exporter": "python",
   "pygments_lexer": "ipython2",
   "version": "2.7.12"
  }
 },
 "nbformat": 4,
 "nbformat_minor": 1
}
